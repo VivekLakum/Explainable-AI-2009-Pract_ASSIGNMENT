{
  "nbformat": 4,
  "nbformat_minor": 0,
  "metadata": {
    "colab": {
      "provenance": [],
      "authorship_tag": "ABX9TyOtWZAo1Br7taU9HTtAGPyw",
      "include_colab_link": true
    },
    "kernelspec": {
      "name": "python3",
      "display_name": "Python 3"
    },
    "language_info": {
      "name": "python"
    }
  },
  "cells": [
    {
      "cell_type": "markdown",
      "metadata": {
        "id": "view-in-github",
        "colab_type": "text"
      },
      "source": [
        "<a href=\"https://colab.research.google.com/github/VivekLakum/Explainable-AI-2009-Pract_ASSIGNMENT/blob/main/EX_LAb_03.ipynb\" target=\"_parent\"><img src=\"https://colab.research.google.com/assets/colab-badge.svg\" alt=\"Open In Colab\"/></a>"
      ]
    },
    {
      "cell_type": "code",
      "execution_count": 3,
      "metadata": {
        "id": "CrsCXLsUBQmN"
      },
      "outputs": [],
      "source": [
        "import numpy as np\n",
        "from sklearn.linear_model import LinearRegression\n",
        "\n",
        "X_perturbed = np.array([\n",
        "    [0.3, 0.8],\n",
        "    [0.32, 0.78],\n",
        "    [0.28, 0.82],\n",
        "    [0.35, 0.75],\n",
        "    [0.25, 0.85]\n",
        "])\n",
        "\n"
      ]
    },
    {
      "cell_type": "code",
      "source": [
        "l_outputs = np.array([0.285, 0.308, 0.262, 0.338, 0.238])\n",
        "\n",
        "weights = np.array([1.0, 0.923, 0.923, 0.602, 0.602])\n",
        "\n",
        "lr = LinearRegression()\n",
        "lr.fit(X_perturbed, l_outputs, sample_weight=weights)\n",
        "\n",
        "print(\"Intercept (β₀):\", lr.intercept_)\n",
        "print(\"Fat_Score weight (β₁):\", lr.coef_[0])\n",
        "print(\"Salt_Score weight (β₂):\", lr.coef_[1])\n"
      ],
      "metadata": {
        "colab": {
          "base_uri": "https://localhost:8080/"
        },
        "id": "yXy0i1TuCd28",
        "outputId": "89c05252-a0fc-4d7f-f5a8-46f77061cb70"
      },
      "execution_count": 2,
      "outputs": [
        {
          "output_type": "stream",
          "name": "stdout",
          "text": [
            "Intercept (β₀): 0.5432790037033084\n",
            "Fat_Score weight (β₁): 0.5147743037029135\n",
            "Salt_Score weight (β₂): -0.5147743037029134\n"
          ]
        }
      ]
    },
    {
      "cell_type": "code",
      "source": [],
      "metadata": {
        "id": "7JU8d2YnCeSs"
      },
      "execution_count": null,
      "outputs": []
    }
  ]
}